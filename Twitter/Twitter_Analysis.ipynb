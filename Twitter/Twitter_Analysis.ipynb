{
 "cells": [
  {
   "cell_type": "code",
   "execution_count": 8,
   "metadata": {
    "collapsed": false
   },
   "outputs": [],
   "source": [
    "import tweepy\n",
    "from textblob import TextBlob"
   ]
  },
  {
   "cell_type": "code",
   "execution_count": 9,
   "metadata": {
    "collapsed": true
   },
   "outputs": [],
   "source": [
    "consumer_key = 'h7jSmBCMLWz9wZ2FI314bq25U'\n",
    "consumer_secret = 'S36Fq8t5jZ8g9FK8h4A54sXQUCrsQVMDJecPnuj4rTRTlH8MFm'\n",
    "\n",
    "access_token = '802485986319970305-VE7nSTtblGOYq5JW9pDWxgegBSTqPqK'\n",
    "access_token_secret = 'AOwZ0c3ygr5ykFeDvr0rLqpu8LMbTu3nxGa87baOLUPnm'"
   ]
  },
  {
   "cell_type": "code",
   "execution_count": 10,
   "metadata": {
    "collapsed": true
   },
   "outputs": [],
   "source": [
    "auth = tweepy.OAuthHandler(consumer_key, consumer_secret)\n",
    "auth.set_access_token(access_token, access_token_secret)"
   ]
  },
  {
   "cell_type": "code",
   "execution_count": 11,
   "metadata": {
    "collapsed": true
   },
   "outputs": [],
   "source": [
    "api = tweepy.API(auth)\n",
    "\n",
    "public_tweets = api.search('Demonetisation')"
   ]
  },
  {
   "cell_type": "code",
   "execution_count": 12,
   "metadata": {
    "collapsed": false
   },
   "outputs": [
    {
     "name": "stdout",
     "output_type": "stream",
     "text": [
      "RT @IndiaBTL: This SBI branch in Bareilly opened 2000 accounts to channelise black money\n",
      "https://t.co/HAGeNK9PTf\n",
      "Banks played spoilsport in…\n",
      "Sentiment(polarity=-0.16666666666666666, subjectivity=0.43333333333333335)\n",
      "\n",
      "RT @WrongDoc: #DeMonetisation stopped stone pelting temporarily due to lack of cash to pay the Kashmiri mercenaries. #Einstein https://t.co…\n",
      "Sentiment(polarity=-0.125, subjectivity=0.375)\n",
      "\n",
      "RT @WrongDoc: #DeMonetisation stopped stone pelting temporarily due to lack of cash to pay the Kashmiri mercenaries. #Einstein https://t.co…\n",
      "Sentiment(polarity=-0.125, subjectivity=0.375)\n",
      "\n",
      "RT @Retributions: Forgive me for the uncomfortable reminder but didn't we all hear how #DeMonetisation had killed stone pelting in one stro…\n",
      "Sentiment(polarity=-0.35, subjectivity=0.5)\n",
      "\n",
      "RT @Retributions: Forgive me for the uncomfortable reminder but didn't we all hear how #DeMonetisation had killed stone pelting in one stro…\n",
      "Sentiment(polarity=-0.35, subjectivity=0.5)\n",
      "\n",
      "RT @ArunSFan: Is Modi Govt &amp; Urjit Patel still counting the currency recovered from demonetisation? They have not declared the number yet.\n",
      "Sentiment(polarity=0.0, subjectivity=0.0)\n",
      "\n",
      "RT @urjourno: But did not the stone-pelting industry grind to a halt after #DeMonetisation ? What happened there @PMOIndia ?#KashmirPolls h…\n",
      "Sentiment(polarity=0.0, subjectivity=0.0)\n",
      "\n",
      "RT @Retributions: Forgive me for the uncomfortable reminder but didn't we all hear how #DeMonetisation had killed stone pelting in one stro…\n",
      "Sentiment(polarity=-0.35, subjectivity=0.5)\n",
      "\n",
      "RT @Retributions: Forgive me for the uncomfortable reminder but didn't we all hear how #DeMonetisation had killed stone pelting in one stro…\n",
      "Sentiment(polarity=-0.35, subjectivity=0.5)\n",
      "\n",
      "RT @PTI_News: #SBI branch in Bareilly opened 2K A/cs post #demonetisation till Dec 31 to channel #blackmoney; Rs 8 cr found deposited in ba…\n",
      "Sentiment(polarity=0.0, subjectivity=0.0)\n",
      "\n",
      "RT @Akashtv1: BANKERS BEWARE!\n",
      "\n",
      "SBI, Bareilly\n",
      "\n",
      "@moneycontrolcom - claims 2000+ bank accounts were opened to counter demonetisation\n",
      "\n",
      "https://…\n",
      "Sentiment(polarity=0.0, subjectivity=0.0)\n",
      "\n",
      "RT @barbarindian: So #DeMonetisation did not help. Back to square one. https://t.co/hrY6PECcfS\n",
      "Sentiment(polarity=0.0, subjectivity=0.0)\n",
      "\n",
      "RT @Retributions: Forgive me for the uncomfortable reminder but didn't we all hear how #DeMonetisation had killed stone pelting in one stro…\n",
      "Sentiment(polarity=-0.35, subjectivity=0.5)\n",
      "\n",
      "RT @amolkataria: Par demonetisation should have stopped all this ? Or may be they didn't get the chance to tamper evm ? #VoteChorBJP https:…\n",
      "Sentiment(polarity=0.0, subjectivity=0.0)\n",
      "\n",
      "RT @bprerna: 'Journalists' in AAJ TAK led by Sweta Singh discussing 'nano technology GPS chip' in the new #rs2000notes. 😂😂😂 #DeMonetisation…\n",
      "Sentiment(polarity=0.13636363636363635, subjectivity=0.45454545454545453)\n",
      "\n"
     ]
    }
   ],
   "source": [
    "for tweet in public_tweets:\n",
    "\tprint(tweet.text)\n",
    "\tanalysis = TextBlob(tweet.text)\n",
    "\tprint(analysis.sentiment)\n",
    "\tprint()"
   ]
  },
  {
   "cell_type": "code",
   "execution_count": null,
   "metadata": {
    "collapsed": true
   },
   "outputs": [],
   "source": []
  }
 ],
 "metadata": {
  "kernelspec": {
   "display_name": "Python [conda root]",
   "language": "python",
   "name": "conda-root-py"
  },
  "language_info": {
   "codemirror_mode": {
    "name": "ipython",
    "version": 3
   },
   "file_extension": ".py",
   "mimetype": "text/x-python",
   "name": "python",
   "nbconvert_exporter": "python",
   "pygments_lexer": "ipython3",
   "version": "3.5.2"
  }
 },
 "nbformat": 4,
 "nbformat_minor": 2
}
